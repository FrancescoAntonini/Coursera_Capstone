{
 "cells": [
  {
   "cell_type": "markdown",
   "metadata": {},
   "source": [
    "The following is a short explain of my code:\n",
    "1. import through wikipedia library the table object of the work in html and than convert to a csv format;\n",
    "2. Rename the dataframe's column values with the header variable\n",
    "3. drop the row with 'Not assigned' values for \"Borough\" column\n",
    "4. reset of the index\n",
    "5. replacement of the value cointaining 'Not assigned' for \"Neighbourhood\" column with the corresponding value in column \"Borough\"\n",
    "6. groupby the dataframe in order to have unique value for \"Postcode\" and \"Borough\" and to have the corresponding values of \"Neighbourhood\" concatenated and separed by comma.\n"
   ]
  },
  {
   "cell_type": "code",
   "execution_count": null,
   "metadata": {},
   "outputs": [],
   "source": [
    "import pandas as pd\n",
    "import wikipedia as wp"
   ]
  },
  {
   "cell_type": "code",
   "execution_count": null,
   "metadata": {},
   "outputs": [],
   "source": [
    "#Get the html source\n",
    "html = wp.page(\"List of postal codes of Canada: M\").html().encode(\"UTF-8\")\n",
    "df = pd.read_html(html)[0]\n",
    "df.to_csv('beautifulsoup_pandas.csv',header=0,index=False)"
   ]
  },
  {
   "cell_type": "code",
   "execution_count": null,
   "metadata": {},
   "outputs": [],
   "source": [
    "# Create a new variable called 'header' from the first row of the dataset\n",
    "header = df.iloc[0]\n",
    "# Replace the dataframe with a new one which does not contain the first row\n",
    "df = df[1:]\n",
    "# rinizializzo l'indice a 0\n",
    "df.index -= 1\n",
    "# Rename the dataframe's column values with the header variable\n",
    "df=df.rename(columns = header)"
   ]
  },
  {
   "cell_type": "code",
   "execution_count": null,
   "metadata": {},
   "outputs": [],
   "source": [
    "# Drop a row by condition\n",
    "df=df[df.Borough != 'Not assigned']"
   ]
  },
  {
   "cell_type": "code",
   "execution_count": null,
   "metadata": {},
   "outputs": [],
   "source": [
    "# rinizializzo l'indice a 0 dopo il drop\n",
    "df = df.reset_index(drop=True)"
   ]
  },
  {
   "cell_type": "code",
   "execution_count": null,
   "metadata": {},
   "outputs": [],
   "source": [
    "for i in range(len(df)):\n",
    "    if df.Neighbourhood[i] == 'Not assigned':\n",
    "        df.Neighbourhood[i] = df.Borough[i]"
   ]
  },
  {
   "cell_type": "code",
   "execution_count": null,
   "metadata": {},
   "outputs": [],
   "source": [
    "df_grouped= df.groupby(['Postcode', 'Borough'], as_index=False)['Neighbourhood'].agg({'Neighbourhood': lambda x: ','.join(x)})"
   ]
  },
  {
   "cell_type": "code",
   "execution_count": null,
   "metadata": {},
   "outputs": [],
   "source": [
    "df_grouped.shape"
   ]
  }
 ],
 "metadata": {
  "kernelspec": {
   "display_name": "Python 3",
   "language": "python",
   "name": "python3"
  },
  "language_info": {
   "codemirror_mode": {
    "name": "ipython",
    "version": 3
   },
   "file_extension": ".py",
   "mimetype": "text/x-python",
   "name": "python",
   "nbconvert_exporter": "python",
   "pygments_lexer": "ipython3",
   "version": "3.6.5"
  }
 },
 "nbformat": 4,
 "nbformat_minor": 2
}
